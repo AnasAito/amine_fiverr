{
 "cells": [
  {
   "cell_type": "code",
   "execution_count": 2,
   "metadata": {},
   "outputs": [],
   "source": [
    "import pandas as pd"
   ]
  },
  {
   "cell_type": "code",
   "execution_count": 65,
   "metadata": {},
   "outputs": [],
   "source": [
    "data =pd.read_csv('./data/book2.csv')"
   ]
  },
  {
   "cell_type": "code",
   "execution_count": 5,
   "metadata": {},
   "outputs": [
    {
     "data": {
      "text/html": [
       "<div>\n",
       "<style scoped>\n",
       "    .dataframe tbody tr th:only-of-type {\n",
       "        vertical-align: middle;\n",
       "    }\n",
       "\n",
       "    .dataframe tbody tr th {\n",
       "        vertical-align: top;\n",
       "    }\n",
       "\n",
       "    .dataframe thead th {\n",
       "        text-align: right;\n",
       "    }\n",
       "</style>\n",
       "<table border=\"1\" class=\"dataframe\">\n",
       "  <thead>\n",
       "    <tr style=\"text-align: right;\">\n",
       "      <th></th>\n",
       "      <th>SemesterYear</th>\n",
       "      <th>SemesterMonth</th>\n",
       "      <th>StudentID</th>\n",
       "      <th>ClassStart</th>\n",
       "      <th>ClassEnd</th>\n",
       "      <th>ClassPointTotal</th>\n",
       "    </tr>\n",
       "  </thead>\n",
       "  <tbody>\n",
       "    <tr>\n",
       "      <th>0</th>\n",
       "      <td>2019</td>\n",
       "      <td>2</td>\n",
       "      <td>ID-02259</td>\n",
       "      <td>2/13/2019</td>\n",
       "      <td>2/27/2019</td>\n",
       "      <td>322.0</td>\n",
       "    </tr>\n",
       "    <tr>\n",
       "      <th>1</th>\n",
       "      <td>2019</td>\n",
       "      <td>3</td>\n",
       "      <td>ID-02259</td>\n",
       "      <td>2/13/2019</td>\n",
       "      <td>2/27/2019</td>\n",
       "      <td>322.0</td>\n",
       "    </tr>\n",
       "    <tr>\n",
       "      <th>2</th>\n",
       "      <td>2019</td>\n",
       "      <td>3</td>\n",
       "      <td>ID-02259</td>\n",
       "      <td>2/27/2019</td>\n",
       "      <td>3/28/2019</td>\n",
       "      <td>1023.0</td>\n",
       "    </tr>\n",
       "    <tr>\n",
       "      <th>3</th>\n",
       "      <td>2019</td>\n",
       "      <td>4</td>\n",
       "      <td>ID-03045</td>\n",
       "      <td>2/7/2019</td>\n",
       "      <td>3/12/2019</td>\n",
       "      <td>672.0</td>\n",
       "    </tr>\n",
       "    <tr>\n",
       "      <th>4</th>\n",
       "      <td>2019</td>\n",
       "      <td>4</td>\n",
       "      <td>ID-01099</td>\n",
       "      <td>3/20/2019</td>\n",
       "      <td>4/19/2019</td>\n",
       "      <td>1073.0</td>\n",
       "    </tr>\n",
       "  </tbody>\n",
       "</table>\n",
       "</div>"
      ],
      "text/plain": [
       "   SemesterYear  SemesterMonth StudentID ClassStart   ClassEnd  \\\n",
       "0          2019              2  ID-02259  2/13/2019  2/27/2019   \n",
       "1          2019              3  ID-02259  2/13/2019  2/27/2019   \n",
       "2          2019              3  ID-02259  2/27/2019  3/28/2019   \n",
       "3          2019              4  ID-03045   2/7/2019  3/12/2019   \n",
       "4          2019              4  ID-01099  3/20/2019  4/19/2019   \n",
       "\n",
       "   ClassPointTotal  \n",
       "0            322.0  \n",
       "1            322.0  \n",
       "2           1023.0  \n",
       "3            672.0  \n",
       "4           1073.0  "
      ]
     },
     "execution_count": 5,
     "metadata": {},
     "output_type": "execute_result"
    }
   ],
   "source": [
    "data.head()"
   ]
  },
  {
   "cell_type": "code",
   "execution_count": 6,
   "metadata": {},
   "outputs": [],
   "source": [
    "data['ClassStart'] = pd.to_datetime(data['ClassStart'])\n",
    "data['ClassEnd'] = pd.to_datetime(data['ClassEnd'])"
   ]
  },
  {
   "cell_type": "code",
   "execution_count": 7,
   "metadata": {},
   "outputs": [
    {
     "data": {
      "text/html": [
       "<div>\n",
       "<style scoped>\n",
       "    .dataframe tbody tr th:only-of-type {\n",
       "        vertical-align: middle;\n",
       "    }\n",
       "\n",
       "    .dataframe tbody tr th {\n",
       "        vertical-align: top;\n",
       "    }\n",
       "\n",
       "    .dataframe thead th {\n",
       "        text-align: right;\n",
       "    }\n",
       "</style>\n",
       "<table border=\"1\" class=\"dataframe\">\n",
       "  <thead>\n",
       "    <tr style=\"text-align: right;\">\n",
       "      <th></th>\n",
       "      <th>SemesterYear</th>\n",
       "      <th>SemesterMonth</th>\n",
       "      <th>StudentID</th>\n",
       "      <th>ClassStart</th>\n",
       "      <th>ClassEnd</th>\n",
       "      <th>ClassPointTotal</th>\n",
       "    </tr>\n",
       "  </thead>\n",
       "  <tbody>\n",
       "    <tr>\n",
       "      <th>0</th>\n",
       "      <td>2019</td>\n",
       "      <td>2</td>\n",
       "      <td>ID-02259</td>\n",
       "      <td>2019-02-13</td>\n",
       "      <td>2019-02-27</td>\n",
       "      <td>322.0</td>\n",
       "    </tr>\n",
       "    <tr>\n",
       "      <th>1</th>\n",
       "      <td>2019</td>\n",
       "      <td>3</td>\n",
       "      <td>ID-02259</td>\n",
       "      <td>2019-02-13</td>\n",
       "      <td>2019-02-27</td>\n",
       "      <td>322.0</td>\n",
       "    </tr>\n",
       "    <tr>\n",
       "      <th>2</th>\n",
       "      <td>2019</td>\n",
       "      <td>3</td>\n",
       "      <td>ID-02259</td>\n",
       "      <td>2019-02-27</td>\n",
       "      <td>2019-03-28</td>\n",
       "      <td>1023.0</td>\n",
       "    </tr>\n",
       "    <tr>\n",
       "      <th>3</th>\n",
       "      <td>2019</td>\n",
       "      <td>4</td>\n",
       "      <td>ID-03045</td>\n",
       "      <td>2019-02-07</td>\n",
       "      <td>2019-03-12</td>\n",
       "      <td>672.0</td>\n",
       "    </tr>\n",
       "    <tr>\n",
       "      <th>4</th>\n",
       "      <td>2019</td>\n",
       "      <td>4</td>\n",
       "      <td>ID-01099</td>\n",
       "      <td>2019-03-20</td>\n",
       "      <td>2019-04-19</td>\n",
       "      <td>1073.0</td>\n",
       "    </tr>\n",
       "  </tbody>\n",
       "</table>\n",
       "</div>"
      ],
      "text/plain": [
       "   SemesterYear  SemesterMonth StudentID ClassStart   ClassEnd  \\\n",
       "0          2019              2  ID-02259 2019-02-13 2019-02-27   \n",
       "1          2019              3  ID-02259 2019-02-13 2019-02-27   \n",
       "2          2019              3  ID-02259 2019-02-27 2019-03-28   \n",
       "3          2019              4  ID-03045 2019-02-07 2019-03-12   \n",
       "4          2019              4  ID-01099 2019-03-20 2019-04-19   \n",
       "\n",
       "   ClassPointTotal  \n",
       "0            322.0  \n",
       "1            322.0  \n",
       "2           1023.0  \n",
       "3            672.0  \n",
       "4           1073.0  "
      ]
     },
     "execution_count": 7,
     "metadata": {},
     "output_type": "execute_result"
    }
   ],
   "source": [
    "data.head()"
   ]
  },
  {
   "cell_type": "code",
   "execution_count": 8,
   "metadata": {},
   "outputs": [
    {
     "name": "stdout",
     "output_type": "stream",
     "text": [
      "<class 'pandas.core.frame.DataFrame'>\n",
      "RangeIndex: 221344 entries, 0 to 221343\n",
      "Data columns (total 6 columns):\n",
      " #   Column           Non-Null Count   Dtype         \n",
      "---  ------           --------------   -----         \n",
      " 0   SemesterYear     221344 non-null  int64         \n",
      " 1   SemesterMonth    221344 non-null  int64         \n",
      " 2   StudentID        221344 non-null  object        \n",
      " 3   ClassStart       221344 non-null  datetime64[ns]\n",
      " 4   ClassEnd         221344 non-null  datetime64[ns]\n",
      " 5   ClassPointTotal  221344 non-null  float64       \n",
      "dtypes: datetime64[ns](2), float64(1), int64(2), object(1)\n",
      "memory usage: 10.1+ MB\n"
     ]
    }
   ],
   "source": [
    "data.info()"
   ]
  },
  {
   "cell_type": "code",
   "execution_count": 9,
   "metadata": {},
   "outputs": [
    {
     "data": {
      "text/plain": [
       "ID-17480         102\n",
       "ID-02727          69\n",
       "ID-02831          48\n",
       "ID-12895          45\n",
       "ID-01632          43\n",
       "                ... \n",
       "ID-21811           1\n",
       "ID-22278           1\n",
       "ID-23456           1\n",
       "ID-25866           1\n",
       "ID-40165           1\n",
       "Name: StudentID, Length: 15495, dtype: int64"
      ]
     },
     "execution_count": 9,
     "metadata": {},
     "output_type": "execute_result"
    }
   ],
   "source": [
    "data['StudentID'].value_counts()\n",
    "# 15495 student "
   ]
  },
  {
   "cell_type": "code",
   "execution_count": 10,
   "metadata": {},
   "outputs": [],
   "source": [
    "def get_gap_records(student_id):\n",
    "    stdent_data = data[data['StudentID']==student_id]\n",
    "    stdent_data.sort_values(by=[ 'ClassStart','ClassEnd'])\n",
    "    unique_records = stdent_data.sort_values(by=[ 'ClassStart','ClassEnd']).drop_duplicates(subset=[ 'ClassStart','ClassEnd'], keep='last')\n",
    "    unique_records['gap_time'] = unique_records['ClassStart'] - unique_records['ClassEnd'].shift(1)\n",
    "    return list(unique_records[unique_records['gap_time']>pd.Timedelta(days=1)].index)\n"
   ]
  },
  {
   "cell_type": "code",
   "execution_count": 35,
   "metadata": {},
   "outputs": [],
   "source": [
    "\n",
    "\n",
    "from itertools import chain\n",
    "def get_overlap_records_by_student_id(student_id):\n",
    "    stdent_data = data[data['StudentID']==student_id]\n",
    "    unique_records = stdent_data.sort_values(by=[ 'ClassStart']).drop_duplicates(subset=[ 'ClassStart','ClassEnd'], keep='last')\n",
    "    unique_records['original_index'] = unique_records.index\n",
    "    unique_records =unique_records.reset_index()\n",
    "    # for each record see if there is a record that that have start data < enddate of the current record\n",
    "    def check_over_lap (index,end):\n",
    "        return [idx for idx in unique_records[(unique_records['ClassStart']<end)&(unique_records.index>index)]['original_index'].values]\n",
    "    result =[check_over_lap(index, end_date) for index, end_date in zip(unique_records.index, unique_records['ClassEnd'])]\n",
    "    return list(chain.from_iterable(result))\n"
   ]
  },
  {
   "cell_type": "code",
   "execution_count": null,
   "metadata": {},
   "outputs": [],
   "source": [
    "dict_logs = {}\n",
    "for idx,student_id in enumerate(data['StudentID'].unique()):\n",
    "    print(idx/15495)\n",
    "    over_lap = get_overlap_records_by_student_id(student_id)\n",
    "    gap = get_gap_records(student_id)\n",
    "    dict_logs[student_id]={'over_lap':over_lap,'gap':gap}\n",
    "    print('\\n')"
   ]
  },
  {
   "cell_type": "code",
   "execution_count": 50,
   "metadata": {},
   "outputs": [],
   "source": [
    "data['original_id'] = data.index"
   ]
  },
  {
   "cell_type": "code",
   "execution_count": 52,
   "metadata": {},
   "outputs": [],
   "source": [
    "# save data\n",
    "data.to_csv('./data/data_indexed.csv')"
   ]
  },
  {
   "cell_type": "code",
   "execution_count": 53,
   "metadata": {},
   "outputs": [],
   "source": [
    "logs = pd.DataFrame(columns=['StudentID','over_lap','gap'])\n",
    "logs['StudentID'] = data['StudentID'].unique()\n",
    "logs['over_lap'] = data['StudentID'].apply(lambda x: dict_logs[x]['over_lap'])\n",
    "logs['gap'] = data['StudentID'].apply(lambda x: dict_logs[x]['gap'])"
   ]
  },
  {
   "cell_type": "code",
   "execution_count": 54,
   "metadata": {},
   "outputs": [],
   "source": [
    "#save logs\n",
    "logs.to_csv('./data/logs.csv')"
   ]
  },
  {
   "cell_type": "code",
   "execution_count": 55,
   "metadata": {},
   "outputs": [],
   "source": [
    "# question 3 : \n",
    "data_without_doubles = data.drop_duplicates(subset=['StudentID', 'ClassStart','ClassEnd'], keep='last')"
   ]
  },
  {
   "cell_type": "code",
   "execution_count": 69,
   "metadata": {},
   "outputs": [],
   "source": [
    "dublicates_ids  = list(set(list(data.index)) - set(list(data_without_doubles.index)))\n",
    "dublicate_records = data[data.index.isin(dublicates_ids)]"
   ]
  },
  {
   "cell_type": "code",
   "execution_count": 70,
   "metadata": {},
   "outputs": [],
   "source": [
    "dublicate_records.to_csv('./data/dublicate_records.csv')"
   ]
  },
  {
   "cell_type": "code",
   "execution_count": null,
   "metadata": {},
   "outputs": [],
   "source": []
  }
 ],
 "metadata": {
  "interpreter": {
   "hash": "949777d72b0d2535278d3dc13498b2535136f6dfe0678499012e853ee9abcab1"
  },
  "kernelspec": {
   "display_name": "Python 3.7.6 64-bit",
   "name": "python3"
  },
  "language_info": {
   "codemirror_mode": {
    "name": "ipython",
    "version": 3
   },
   "file_extension": ".py",
   "mimetype": "text/x-python",
   "name": "python",
   "nbconvert_exporter": "python",
   "pygments_lexer": "ipython3",
   "version": "3.7.6"
  },
  "orig_nbformat": 4
 },
 "nbformat": 4,
 "nbformat_minor": 2
}
